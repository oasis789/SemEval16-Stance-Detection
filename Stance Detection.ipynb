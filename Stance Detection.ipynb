{
 "cells": [
  {
   "cell_type": "code",
   "execution_count": 1,
   "metadata": {},
   "outputs": [],
   "source": [
    "import pandas as pd\n",
    "import numpy as np\n",
    "pd.set_option('display.max_colwidth', -1)\n",
    "import matplotlib.pyplot as plt\n",
    "import csv\n",
    "import re\n",
    "import spacy\n",
    "from sklearn.feature_extraction.text import CountVectorizer, TfidfVectorizer\n",
    "from sklearn.decomposition import TruncatedSVD\n",
    "from sklearn.pipeline import Pipeline\n",
    "from sklearn.linear_model import SGDClassifier\n",
    "from sklearn.metrics import classification_report, confusion_matrix\n",
    "from sklearn.cluster import KMeans\n",
    "from sklearn.model_selection import RandomizedSearchCV\n",
    "from sklearn.model_selection import cross_validate\n",
    "from sklearn.preprocessing import Normalizer\n",
    "from sklearn.metrics import f1_score"
   ]
  },
  {
   "cell_type": "code",
   "execution_count": 2,
   "metadata": {},
   "outputs": [],
   "source": [
    "nlp = spacy.load('en')"
   ]
  },
  {
   "cell_type": "code",
   "execution_count": 3,
   "metadata": {},
   "outputs": [],
   "source": [
    "def load_csv(path):\n",
    "    data = []\n",
    "\n",
    "    with open(path, 'r',  encoding=\"iso-8859-1\") as fin:\n",
    "        reader = csv.reader(fin, quotechar='\"')\n",
    "        columns = next(reader)\n",
    "        for line in reader:\n",
    "            data.append(line)\n",
    "\n",
    "    df = pd.DataFrame(data, columns=columns)\n",
    "\n",
    "    return df"
   ]
  },
  {
   "cell_type": "markdown",
   "metadata": {},
   "source": [
    "# Load the Data"
   ]
  },
  {
   "cell_type": "code",
   "execution_count": 4,
   "metadata": {},
   "outputs": [],
   "source": [
    "train_df = load_csv('train.csv')"
   ]
  },
  {
   "cell_type": "code",
   "execution_count": 5,
   "metadata": {},
   "outputs": [
    {
     "data": {
      "text/html": [
       "<div>\n",
       "<style scoped>\n",
       "    .dataframe tbody tr th:only-of-type {\n",
       "        vertical-align: middle;\n",
       "    }\n",
       "\n",
       "    .dataframe tbody tr th {\n",
       "        vertical-align: top;\n",
       "    }\n",
       "\n",
       "    .dataframe thead th {\n",
       "        text-align: right;\n",
       "    }\n",
       "</style>\n",
       "<table border=\"1\" class=\"dataframe\">\n",
       "  <thead>\n",
       "    <tr style=\"text-align: right;\">\n",
       "      <th></th>\n",
       "      <th>Tweet</th>\n",
       "      <th>Target</th>\n",
       "      <th>Stance</th>\n",
       "      <th>Opinion Towards</th>\n",
       "      <th>Sentiment</th>\n",
       "    </tr>\n",
       "  </thead>\n",
       "  <tbody>\n",
       "    <tr>\n",
       "      <th>0</th>\n",
       "      <td>@tedcruz And, #HandOverTheServer she wiped clean + 30k deleted emails, explains dereliction of duty/lies re #Benghazi,etc #tcot</td>\n",
       "      <td>Hillary Clinton</td>\n",
       "      <td>AGAINST</td>\n",
       "      <td>1.  The tweet explicitly expresses opinion about the target, a part of the target, or an aspect of the target.</td>\n",
       "      <td>neg</td>\n",
       "    </tr>\n",
       "    <tr>\n",
       "      <th>1</th>\n",
       "      <td>Hillary is our best choice if we truly want to continue being a progressive nation. #Ohio</td>\n",
       "      <td>Hillary Clinton</td>\n",
       "      <td>FAVOR</td>\n",
       "      <td>1.  The tweet explicitly expresses opinion about the target, a part of the target, or an aspect of the target.</td>\n",
       "      <td>pos</td>\n",
       "    </tr>\n",
       "    <tr>\n",
       "      <th>2</th>\n",
       "      <td>@TheView I think our country is ready for a female pres, it can't ever be Hillary</td>\n",
       "      <td>Hillary Clinton</td>\n",
       "      <td>AGAINST</td>\n",
       "      <td>1.  The tweet explicitly expresses opinion about the target, a part of the target, or an aspect of the target.</td>\n",
       "      <td>neg</td>\n",
       "    </tr>\n",
       "    <tr>\n",
       "      <th>3</th>\n",
       "      <td>I just gave an unhealthy amount of my hard-earned money away to the big gov't &amp; untrustworthy IRS. #WhyImNotVotingForHillary</td>\n",
       "      <td>Hillary Clinton</td>\n",
       "      <td>AGAINST</td>\n",
       "      <td>1.  The tweet explicitly expresses opinion about the target, a part of the target, or an aspect of the target.</td>\n",
       "      <td>neg</td>\n",
       "    </tr>\n",
       "    <tr>\n",
       "      <th>4</th>\n",
       "      <td>@PortiaABoulger Thank you for adding me to your list</td>\n",
       "      <td>Hillary Clinton</td>\n",
       "      <td>NONE</td>\n",
       "      <td>3.  The tweet is not explicitly expressing opinion. (For example, the tweet is simply giving information.)</td>\n",
       "      <td>pos</td>\n",
       "    </tr>\n",
       "  </tbody>\n",
       "</table>\n",
       "</div>"
      ],
      "text/plain": [
       "                                                                                                                             Tweet  \\\n",
       "0  @tedcruz And, #HandOverTheServer she wiped clean + 30k deleted emails, explains dereliction of duty/lies re #Benghazi,etc #tcot   \n",
       "1  Hillary is our best choice if we truly want to continue being a progressive nation. #Ohio                                         \n",
       "2  @TheView I think our country is ready for a female pres, it can't ever be Hillary                                                 \n",
       "3  I just gave an unhealthy amount of my hard-earned money away to the big gov't & untrustworthy IRS. #WhyImNotVotingForHillary      \n",
       "4  @PortiaABoulger Thank you for adding me to your list                                                                              \n",
       "\n",
       "            Target   Stance  \\\n",
       "0  Hillary Clinton  AGAINST   \n",
       "1  Hillary Clinton  FAVOR     \n",
       "2  Hillary Clinton  AGAINST   \n",
       "3  Hillary Clinton  AGAINST   \n",
       "4  Hillary Clinton  NONE      \n",
       "\n",
       "                                                                                                  Opinion Towards  \\\n",
       "0  1.  The tweet explicitly expresses opinion about the target, a part of the target, or an aspect of the target.   \n",
       "1  1.  The tweet explicitly expresses opinion about the target, a part of the target, or an aspect of the target.   \n",
       "2  1.  The tweet explicitly expresses opinion about the target, a part of the target, or an aspect of the target.   \n",
       "3  1.  The tweet explicitly expresses opinion about the target, a part of the target, or an aspect of the target.   \n",
       "4  3.  The tweet is not explicitly expressing opinion. (For example, the tweet is simply giving information.)       \n",
       "\n",
       "  Sentiment  \n",
       "0  neg       \n",
       "1  pos       \n",
       "2  neg       \n",
       "3  neg       \n",
       "4  pos       "
      ]
     },
     "execution_count": 5,
     "metadata": {},
     "output_type": "execute_result"
    }
   ],
   "source": [
    "train_df.head()"
   ]
  },
  {
   "cell_type": "code",
   "execution_count": 6,
   "metadata": {},
   "outputs": [
    {
     "data": {
      "text/html": [
       "<div>\n",
       "<style scoped>\n",
       "    .dataframe tbody tr th:only-of-type {\n",
       "        vertical-align: middle;\n",
       "    }\n",
       "\n",
       "    .dataframe tbody tr th {\n",
       "        vertical-align: top;\n",
       "    }\n",
       "\n",
       "    .dataframe thead th {\n",
       "        text-align: right;\n",
       "    }\n",
       "</style>\n",
       "<table border=\"1\" class=\"dataframe\">\n",
       "  <thead>\n",
       "    <tr style=\"text-align: right;\">\n",
       "      <th></th>\n",
       "      <th>Tweet</th>\n",
       "      <th>Target</th>\n",
       "      <th>Stance</th>\n",
       "      <th>Opinion Towards</th>\n",
       "      <th>Sentiment</th>\n",
       "    </tr>\n",
       "  </thead>\n",
       "  <tbody>\n",
       "    <tr>\n",
       "      <th>0</th>\n",
       "      <td>He who exalts himself shall      be humbled; and he who humbles himself shall be exalted.Matt 23:12.     #SemST</td>\n",
       "      <td>Atheism</td>\n",
       "      <td>AGAINST</td>\n",
       "      <td>1.  The tweet explicitly expresses opinion about the target, a part of the target, or an aspect of the target.</td>\n",
       "      <td>pos</td>\n",
       "    </tr>\n",
       "    <tr>\n",
       "      <th>1</th>\n",
       "      <td>RT @prayerbullets: I remove Nehushtan -previous moves of God that have become idols, from the high places -2 Kings 18:4 #SemST</td>\n",
       "      <td>Atheism</td>\n",
       "      <td>AGAINST</td>\n",
       "      <td>1.  The tweet explicitly expresses opinion about the target, a part of the target, or an aspect of the target.</td>\n",
       "      <td>other</td>\n",
       "    </tr>\n",
       "    <tr>\n",
       "      <th>2</th>\n",
       "      <td>@Brainman365 @heidtjj @BenjaminLives I have sought the truth of my soul and found it strong enough to stand on its own merits. #SemST</td>\n",
       "      <td>Atheism</td>\n",
       "      <td>AGAINST</td>\n",
       "      <td>1.  The tweet explicitly expresses opinion about the target, a part of the target, or an aspect of the target.</td>\n",
       "      <td>pos</td>\n",
       "    </tr>\n",
       "    <tr>\n",
       "      <th>3</th>\n",
       "      <td>#God is utterly powerless without Human intervention... #SemST</td>\n",
       "      <td>Atheism</td>\n",
       "      <td>AGAINST</td>\n",
       "      <td>1.  The tweet explicitly expresses opinion about the target, a part of the target, or an aspect of the target.</td>\n",
       "      <td>neg</td>\n",
       "    </tr>\n",
       "    <tr>\n",
       "      <th>4</th>\n",
       "      <td>@David_Cameron   Miracles of #Multiculturalism   Miracles of shady 786  #Taqiya #Tawriya #Jaziya #Kafirs #Dhimmi #Jihad #Allah #SemST</td>\n",
       "      <td>Atheism</td>\n",
       "      <td>AGAINST</td>\n",
       "      <td>2. The tweet does NOT expresses opinion about the target but it HAS opinion about something or someone other than the target.</td>\n",
       "      <td>neg</td>\n",
       "    </tr>\n",
       "  </tbody>\n",
       "</table>\n",
       "</div>"
      ],
      "text/plain": [
       "                                                                                                                                   Tweet  \\\n",
       "0  He who exalts himself shall      be humbled; and he who humbles himself shall be exalted.Matt 23:12.     #SemST                         \n",
       "1  RT @prayerbullets: I remove Nehushtan -previous moves of God that have become idols, from the high places -2 Kings 18:4 #SemST          \n",
       "2  @Brainman365 @heidtjj @BenjaminLives I have sought the truth of my soul and found it strong enough to stand on its own merits. #SemST   \n",
       "3  #God is utterly powerless without Human intervention... #SemST                                                                          \n",
       "4  @David_Cameron   Miracles of #Multiculturalism   Miracles of shady 786  #Taqiya #Tawriya #Jaziya #Kafirs #Dhimmi #Jihad #Allah #SemST   \n",
       "\n",
       "    Target   Stance  \\\n",
       "0  Atheism  AGAINST   \n",
       "1  Atheism  AGAINST   \n",
       "2  Atheism  AGAINST   \n",
       "3  Atheism  AGAINST   \n",
       "4  Atheism  AGAINST   \n",
       "\n",
       "                                                                                                                 Opinion Towards  \\\n",
       "0  1.  The tweet explicitly expresses opinion about the target, a part of the target, or an aspect of the target.                  \n",
       "1  1.  The tweet explicitly expresses opinion about the target, a part of the target, or an aspect of the target.                  \n",
       "2  1.  The tweet explicitly expresses opinion about the target, a part of the target, or an aspect of the target.                  \n",
       "3  1.  The tweet explicitly expresses opinion about the target, a part of the target, or an aspect of the target.                  \n",
       "4  2. The tweet does NOT expresses opinion about the target but it HAS opinion about something or someone other than the target.   \n",
       "\n",
       "  Sentiment  \n",
       "0  pos       \n",
       "1  other     \n",
       "2  pos       \n",
       "3  neg       \n",
       "4  neg       "
      ]
     },
     "execution_count": 6,
     "metadata": {},
     "output_type": "execute_result"
    }
   ],
   "source": [
    "test_df = load_csv('test.csv')\n",
    "test_df.head()"
   ]
  },
  {
   "cell_type": "markdown",
   "metadata": {},
   "source": [
    "# Plot the distributions of the data"
   ]
  },
  {
   "cell_type": "code",
   "execution_count": 7,
   "metadata": {},
   "outputs": [
    {
     "data": {
      "image/png": "[encoded data removed]",
      "text/plain": [
       "<Figure size 432x288 with 1 Axes>"
      ]
     },
     "metadata": {
      "needs_background": "light"
     },
     "output_type": "display_data"
    }
   ],
   "source": [
    "train_df.groupby(['Target', 'Stance']).size().unstack().plot(kind='bar', stacked=True)\n",
    "plt.legend(loc='best')\n",
    "plt.title('Train Data Distributions')\n",
    "plt.show()"
   ]
  },
  {
   "cell_type": "code",
   "execution_count": 8,
   "metadata": {},
   "outputs": [
    {
     "data": {
      "image/png": "[encoded data removed]",
      "text/plain": [
       "<Figure size 432x288 with 1 Axes>"
      ]
     },
     "metadata": {
      "needs_background": "light"
     },
     "output_type": "display_data"
    }
   ],
   "source": [
    "test_df.groupby(['Target', 'Stance']).size().unstack().plot(kind='bar', stacked=True)\n",
    "plt.legend(loc='best')\n",
    "plt.title('Test Data Distribution')\n",
    "plt.show()"
   ]
  },
  {
   "cell_type": "code",
   "execution_count": 9,
   "metadata": {},
   "outputs": [],
   "source": [
    "targets = list(train_df['Target'].unique())"
   ]
  },
  {
   "cell_type": "code",
   "execution_count": 10,
   "metadata": {},
   "outputs": [],
   "source": [
    "stances = list(train_df['Stance'].unique())"
   ]
  },
  {
   "cell_type": "markdown",
   "metadata": {},
   "source": [
    "# Define scoring metrics"
   ]
  },
  {
   "cell_type": "code",
   "execution_count": 11,
   "metadata": {},
   "outputs": [],
   "source": [
    "def f1_favor(y_true, y_pred):\n",
    "    return f1_score(y_true, y_pred, average='macro', labels=['FAVOR'])\n",
    "\n",
    "def f1_against(y_true, y_pred):\n",
    "    return f1_score(y_true, y_pred, average='macro', labels=['AGAINST'])\n",
    "\n",
    "def f1_none(y_true, y_pred):\n",
    "    return f1_score(y_true, y_pred, average='macro', labels=['NONE'])\n",
    "\n",
    "def f1_avg(y_true, y_pred):\n",
    "    return np.mean([f1_favor(y_true, y_pred), f1_against(y_true, y_pred)])\n",
    "\n",
    "def f1_avg_scorer(clf, X, y):\n",
    "    y_pred = clf.predict(X)\n",
    "    return f1_avg(y, y_pred)"
   ]
  },
  {
   "cell_type": "markdown",
   "metadata": {},
   "source": [
    "# Normalise the Tweet Text"
   ]
  },
  {
   "cell_type": "code",
   "execution_count": 12,
   "metadata": {},
   "outputs": [],
   "source": [
    "def normalise_text(text):\n",
    "    doc = nlp(text)\n",
    "    return ' '.join([token.lemma_ for token in doc if not token.is_stop and not token.is_digit and not token.is_punct])"
   ]
  },
  {
   "cell_type": "code",
   "execution_count": 13,
   "metadata": {},
   "outputs": [],
   "source": [
    "train_df['Clean Tweet'] = train_df['Tweet'].apply(normalise_text)\n",
    "test_df['Clean Tweet'] = test_df['Tweet'].apply(normalise_text)"
   ]
  },
  {
   "cell_type": "code",
   "execution_count": 14,
   "metadata": {},
   "outputs": [
    {
     "data": {
      "text/html": [
       "<div>\n",
       "<style scoped>\n",
       "    .dataframe tbody tr th:only-of-type {\n",
       "        vertical-align: middle;\n",
       "    }\n",
       "\n",
       "    .dataframe tbody tr th {\n",
       "        vertical-align: top;\n",
       "    }\n",
       "\n",
       "    .dataframe thead th {\n",
       "        text-align: right;\n",
       "    }\n",
       "</style>\n",
       "<table border=\"1\" class=\"dataframe\">\n",
       "  <thead>\n",
       "    <tr style=\"text-align: right;\">\n",
       "      <th></th>\n",
       "      <th>Tweet</th>\n",
       "      <th>Clean Tweet</th>\n",
       "    </tr>\n",
       "  </thead>\n",
       "  <tbody>\n",
       "    <tr>\n",
       "      <th>0</th>\n",
       "      <td>@tedcruz And, #HandOverTheServer she wiped clean + 30k deleted emails, explains dereliction of duty/lies re #Benghazi,etc #tcot</td>\n",
       "      <td>@tedcruz handovertheserver wipe clean + 30k delete email explain dereliction duty lie benghazi tcot</td>\n",
       "    </tr>\n",
       "    <tr>\n",
       "      <th>1</th>\n",
       "      <td>Hillary is our best choice if we truly want to continue being a progressive nation. #Ohio</td>\n",
       "      <td>hillary good choice truly want continue progressive nation ohio</td>\n",
       "    </tr>\n",
       "    <tr>\n",
       "      <th>2</th>\n",
       "      <td>@TheView I think our country is ready for a female pres, it can't ever be Hillary</td>\n",
       "      <td>@theview think country ready female pre not hillary</td>\n",
       "    </tr>\n",
       "    <tr>\n",
       "      <th>3</th>\n",
       "      <td>I just gave an unhealthy amount of my hard-earned money away to the big gov't &amp; untrustworthy IRS. #WhyImNotVotingForHillary</td>\n",
       "      <td>give unhealthy hard earn money away big gov't untrustworthy irs whyimnotvotingforhillary</td>\n",
       "    </tr>\n",
       "    <tr>\n",
       "      <th>4</th>\n",
       "      <td>@PortiaABoulger Thank you for adding me to your list</td>\n",
       "      <td>@portiaaboulger thank add list</td>\n",
       "    </tr>\n",
       "  </tbody>\n",
       "</table>\n",
       "</div>"
      ],
      "text/plain": [
       "                                                                                                                             Tweet  \\\n",
       "0  @tedcruz And, #HandOverTheServer she wiped clean + 30k deleted emails, explains dereliction of duty/lies re #Benghazi,etc #tcot   \n",
       "1  Hillary is our best choice if we truly want to continue being a progressive nation. #Ohio                                         \n",
       "2  @TheView I think our country is ready for a female pres, it can't ever be Hillary                                                 \n",
       "3  I just gave an unhealthy amount of my hard-earned money away to the big gov't & untrustworthy IRS. #WhyImNotVotingForHillary      \n",
       "4  @PortiaABoulger Thank you for adding me to your list                                                                              \n",
       "\n",
       "                                                                                           Clean Tweet  \n",
       "0  @tedcruz handovertheserver wipe clean + 30k delete email explain dereliction duty lie benghazi tcot  \n",
       "1  hillary good choice truly want continue progressive nation ohio                                      \n",
       "2  @theview think country ready female pre not hillary                                                  \n",
       "3  give unhealthy hard earn money away big gov't untrustworthy irs whyimnotvotingforhillary             \n",
       "4  @portiaaboulger thank add list                                                                       "
      ]
     },
     "execution_count": 14,
     "metadata": {},
     "output_type": "execute_result"
    }
   ],
   "source": [
    "train_df.head()[['Tweet', 'Clean Tweet']]"
   ]
  },
  {
   "cell_type": "code",
   "execution_count": 15,
   "metadata": {},
   "outputs": [],
   "source": [
    "flatten = lambda l: [item for sublist in l for item in sublist]"
   ]
  },
  {
   "cell_type": "markdown",
   "metadata": {},
   "source": [
    "# Cross Validate"
   ]
  },
  {
   "cell_type": "code",
   "execution_count": 16,
   "metadata": {},
   "outputs": [
    {
     "name": "stdout",
     "output_type": "stream",
     "text": [
      "Hillary Clinton\n",
      "Train Score: 0.9639575031467299 +/- 0.005758700608192717\n",
      "Test Score: 0.5271756588860275 +/- 0.0717819722531802\n",
      "Legalization of Abortion\n",
      "Train Score: 0.9739479406390972 +/- 0.007773075380737331\n",
      "Test Score: 0.616861586707788 +/- 0.1077706056592856\n",
      "Atheism\n",
      "Train Score: 0.9910754557305573 +/- 0.002836002884531877\n",
      "Test Score: 0.6388470218009912 +/- 0.060078997668752104\n"
     ]
    },
    {
     "name": "stderr",
     "output_type": "stream",
     "text": [
      "/Users/uwaisiqbal/miniconda3/envs/eigen/lib/python3.6/site-packages/sklearn/metrics/classification.py:1143: UndefinedMetricWarning: F-score is ill-defined and being set to 0.0 due to no predicted samples.\n",
      "  'precision', 'predicted', average, warn_for)\n"
     ]
    },
    {
     "name": "stdout",
     "output_type": "stream",
     "text": [
      "Climate Change is a Real Concern\n",
      "Train Score: 0.9994134897360704 +/- 0.0007183254377663272\n",
      "Test Score: 0.46432620009462455 +/- 0.16823003910249656\n",
      "Feminist Movement\n",
      "Train Score: 0.9641381198594994 +/- 0.0057530778191738335\n",
      "Test Score: 0.5861197154655426 +/- 0.04166249738633588\n"
     ]
    }
   ],
   "source": [
    "for target in targets:\n",
    "    pipe = Pipeline([\n",
    "        ('cv', CountVectorizer()),\n",
    "        ('svd', TruncatedSVD(n_components=500)),\n",
    "        ('norm', Normalizer(copy=False)),\n",
    "        ('svm', SGDClassifier(max_iter=5000, tol=1e-3, random_state=42, alpha=1e-3, penalty='elasticnet'))\n",
    "    ])\n",
    "    \n",
    "    train = train_df.loc[train_df['Target'] == target]\n",
    "    score = cross_validate(pipe, train['Clean Tweet'], train['Stance'], cv=5, scoring=f1_avg_scorer, return_train_score=True)\n",
    "    print(f'{target}')\n",
    "    print(f\"Train Score: {np.mean(score['train_score'])} +/- {np.std(score['train_score'])}\")\n",
    "    print(f\"Test Score: {np.mean(score['test_score'])} +/- {np.std(score['test_score'])}\")\n"
   ]
  },
  {
   "cell_type": "markdown",
   "metadata": {},
   "source": [
    "# Evaluate on Test Data"
   ]
  },
  {
   "cell_type": "code",
   "execution_count": 17,
   "metadata": {},
   "outputs": [
    {
     "name": "stdout",
     "output_type": "stream",
     "text": [
      "Overall Scores\n",
      "F1 Avg: 63.678179059180586\n",
      "F1 Favor: 53.76\n",
      "F1 Against: 73.59635811836117\n"
     ]
    },
    {
     "data": {
      "text/html": [
       "<div>\n",
       "<style scoped>\n",
       "    .dataframe tbody tr th:only-of-type {\n",
       "        vertical-align: middle;\n",
       "    }\n",
       "\n",
       "    .dataframe tbody tr th {\n",
       "        vertical-align: top;\n",
       "    }\n",
       "\n",
       "    .dataframe thead th {\n",
       "        text-align: right;\n",
       "    }\n",
       "</style>\n",
       "<table border=\"1\" class=\"dataframe\">\n",
       "  <thead>\n",
       "    <tr style=\"text-align: right;\">\n",
       "      <th></th>\n",
       "      <th>F1 Against</th>\n",
       "      <th>F1 Avg</th>\n",
       "      <th>F1 Favor</th>\n",
       "      <th>Target</th>\n",
       "    </tr>\n",
       "  </thead>\n",
       "  <tbody>\n",
       "    <tr>\n",
       "      <th>0</th>\n",
       "      <td>76.923077</td>\n",
       "      <td>58.179848</td>\n",
       "      <td>39.436620</td>\n",
       "      <td>Hillary Clinton</td>\n",
       "    </tr>\n",
       "    <tr>\n",
       "      <th>1</th>\n",
       "      <td>73.590504</td>\n",
       "      <td>58.223824</td>\n",
       "      <td>42.857143</td>\n",
       "      <td>Legalization of Abortion</td>\n",
       "    </tr>\n",
       "    <tr>\n",
       "      <th>2</th>\n",
       "      <td>78.260870</td>\n",
       "      <td>57.774503</td>\n",
       "      <td>37.288136</td>\n",
       "      <td>Atheism</td>\n",
       "    </tr>\n",
       "    <tr>\n",
       "      <th>3</th>\n",
       "      <td>16.666667</td>\n",
       "      <td>46.449925</td>\n",
       "      <td>76.233184</td>\n",
       "      <td>Climate Change is a Real Concern</td>\n",
       "    </tr>\n",
       "    <tr>\n",
       "      <th>4</th>\n",
       "      <td>67.711599</td>\n",
       "      <td>55.105799</td>\n",
       "      <td>42.500000</td>\n",
       "      <td>Feminist Movement</td>\n",
       "    </tr>\n",
       "  </tbody>\n",
       "</table>\n",
       "</div>"
      ],
      "text/plain": [
       "   F1 Against     F1 Avg   F1 Favor                            Target\n",
       "0  76.923077   58.179848  39.436620  Hillary Clinton                 \n",
       "1  73.590504   58.223824  42.857143  Legalization of Abortion        \n",
       "2  78.260870   57.774503  37.288136  Atheism                         \n",
       "3  16.666667   46.449925  76.233184  Climate Change is a Real Concern\n",
       "4  67.711599   55.105799  42.500000  Feminist Movement               "
      ]
     },
     "execution_count": 17,
     "metadata": {},
     "output_type": "execute_result"
    }
   ],
   "source": [
    "scores_df = pd.DataFrame()\n",
    "models = {}\n",
    "labels_df = pd.DataFrame()\n",
    "for target in targets:\n",
    "\n",
    "    pipe = Pipeline([\n",
    "        ('cv', CountVectorizer()),\n",
    "        ('svd', TruncatedSVD(n_components=500)),\n",
    "        ('norm', Normalizer(copy=False)),\n",
    "        ('svm', SGDClassifier(max_iter=5000, tol=1e-3, random_state=42, alpha=1e-3, penalty='elasticnet'))\n",
    "    ])\n",
    "    \n",
    "    train = train_df.loc[train_df['Target'] == target]\n",
    "    test = test_df.loc[test_df['Target'] == target]\n",
    "    \n",
    "    _ = pipe.fit(train['Clean Tweet'], train['Stance'])\n",
    "    y_pred = pipe.predict(test['Clean Tweet'])\n",
    "    y_true = list(test['Stance'])\n",
    "    models[target] = pipe\n",
    "\n",
    "    labels_df = labels_df.append({'y_true': y_true, 'y_pred': y_pred, 'target': target}, ignore_index=True)\n",
    "    scores_df = scores_df.append(\n",
    "        {'F1 Avg': f1_avg(y_true, y_pred) * 100, \n",
    "         'F1 Favor': f1_favor(y_true, y_pred) * 100, \n",
    "         'F1 Against': f1_against(y_true, y_pred) * 100,\n",
    "         'Target': target}, \n",
    "        ignore_index=True)\n",
    "\n",
    "    \n",
    "overall_f1_avg = f1_avg(flatten(list(labels_df['y_true'])), flatten(list(labels_df['y_pred']))) * 100\n",
    "overall_f1_against = f1_against(flatten(list(labels_df['y_true'])), flatten(list(labels_df['y_pred']))) * 100\n",
    "overall_f1_favor = f1_favor(flatten(list(labels_df['y_true'])), flatten(list(labels_df['y_pred']))) * 100\n",
    "\n",
    "print('Overall Scores')\n",
    "print(f'F1 Avg: {overall_f1_avg}')\n",
    "print(f'F1 Favor: {overall_f1_favor}')\n",
    "print(f'F1 Against: {overall_f1_against}')\n",
    "\n",
    "scores_df"
   ]
  },
  {
   "cell_type": "code",
   "execution_count": null,
   "metadata": {},
   "outputs": [],
   "source": []
  }
 ],
 "metadata": {
  "kernelspec": {
   "display_name": "Python 3",
   "language": "python",
   "name": "python3"
  },
  "language_info": {
   "codemirror_mode": {
    "name": "ipython",
    "version": 3
   },
   "file_extension": ".py",
   "mimetype": "text/x-python",
   "name": "python",
   "nbconvert_exporter": "python",
   "pygments_lexer": "ipython3",
   "version": "3.6.1"
  }
 },
 "nbformat": 4,
 "nbformat_minor": 2
}
